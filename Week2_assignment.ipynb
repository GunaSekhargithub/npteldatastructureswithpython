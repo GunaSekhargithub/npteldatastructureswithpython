{
  "nbformat": 4,
  "nbformat_minor": 0,
  "metadata": {
    "colab": {
      "name": "Welcome to Colaboratory",
      "provenance": [],
      "collapsed_sections": [],
      "toc_visible": true,
      "include_colab_link": true
    },
    "kernelspec": {
      "display_name": "Python 3",
      "name": "python3"
    }
  },
  "cells": [
    {
      "cell_type": "markdown",
      "metadata": {
        "id": "view-in-github",
        "colab_type": "text"
      },
      "source": [
        "<a href=\"https://colab.research.google.com/github/GunaSekhargithub/npteldatastructureswithpython/blob/master/Week2_assignment.ipynb\" target=\"_parent\"><img src=\"https://colab.research.google.com/assets/colab-badge.svg\" alt=\"Open In Colab\"/></a>"
      ]
    },
    {
      "cell_type": "markdown",
      "metadata": {
        "id": "dlzf-oSJe-NI"
      },
      "source": [
        "1.Write a function contracting(l) that takes as input a list of integer l and returns True if the absolute difference between each adjacent pair of elements strictly decreases.\n",
        "\n",
        "Here are some examples of how your function should work.\n",
        "\n",
        "  >>> contracting([9,2,7,3,1])\n",
        "  True\n",
        "\n",
        "  >>> contracting([-2,3,7,2,-1]) \n",
        "  False\n",
        "\n",
        "  >>> contracting([10,7,4,1])\n",
        "  False"
      ]
    },
    {
      "cell_type": "code",
      "metadata": {
        "id": "YL7LfQvLe6Tv",
        "outputId": "768e81c5-13d2-4756-f5a1-7fc1ac7254de",
        "colab": {
          "base_uri": "https://localhost:8080/",
          "height": 34
        }
      },
      "source": [
        "def contracting(l):\n",
        "  n=len(l)\n",
        "  b=abs(l[1]-l[0])\n",
        "  for i in range(2,n):\n",
        "    d=abs(l[i]-l[i-1])\n",
        "    if (d<b):\n",
        "      b=d\n",
        "    else:\n",
        "      return False\n",
        "      break\n",
        "  return True\n",
        "contracting([-2,3,7,2,-1])"
      ],
      "execution_count": 45,
      "outputs": [
        {
          "output_type": "execute_result",
          "data": {
            "text/plain": [
              "False"
            ]
          },
          "metadata": {
            "tags": []
          },
          "execution_count": 45
        }
      ]
    },
    {
      "cell_type": "markdown",
      "metadata": {
        "id": "X7K1qoAUeNHM"
      },
      "source": [
        "2.In a list of integers l, the neighbours of l[i] are l[i-1] and l[i+1]. l[i] is a hill if it is strictly greater than its neighbours and a valley if it is strictly less than its neighbours.\n",
        "Write a function counthv(l) that takes as input a list of integers l and returns a list [hc,vc] where hc is the number of hills in l and vc is the number of valleys in l.\n",
        "\n",
        "Here are some examples to show how your function should work.\n",
        "\n",
        " \n",
        ">>> counthv([1,2,1,2,3,2,1])\n",
        "[2, 1]\n",
        "\n",
        ">>> counthv([1,2,3,1])\n",
        "[1, 0]\n",
        "\n",
        ">>> counthv([3,1,2,3])\n",
        "[0, 1]\n"
      ]
    },
    {
      "cell_type": "code",
      "metadata": {
        "id": "CY97j6CiTqK1",
        "outputId": "79ceeba8-38dc-432f-a256-65b17279cc30",
        "colab": {
          "base_uri": "https://localhost:8080/",
          "height": 34
        }
      },
      "source": [
        "def counthv(l):\n",
        "  a=[]\n",
        "  hc=0\n",
        "  vc=0\n",
        "  for i in range(1,len(l)-1):\n",
        "    if (l[i]>l[i-1] and l[i]>l[i+1]):\n",
        "      hc+=1\n",
        "    elif (l[i]<l[i-1] and l[i]<l[i+1]):\n",
        "      vc+=1\n",
        "    else:\n",
        "      continue\n",
        "  a.append(hc)\n",
        "  a.append(vc)\n",
        "  return a\n",
        "counthv([3,1,2,3])"
      ],
      "execution_count": 32,
      "outputs": [
        {
          "output_type": "execute_result",
          "data": {
            "text/plain": [
              "[0, 1]"
            ]
          },
          "metadata": {
            "tags": []
          },
          "execution_count": 32
        }
      ]
    },
    {
      "cell_type": "markdown",
      "metadata": {
        "id": "M4R8IBxXeljM"
      },
      "source": [
        "3.A square n×n matrix of integers can be written in Python as a list with n elements, where each element is in turn a list of n integers, representing a row of the matrix. For instance, the matrix\n",
        "\n",
        "  1  2  3\n",
        "  4  5  6\n",
        "  7  8  9\n",
        "would be represented as [[1,2,3], [4,5,6], [7,8,9]].\n",
        "\n",
        "Write a function leftrotate(m) that takes a list representation m of a square matrix as input, and returns the matrix obtained by rotating the original matrix counterclockwize by 90 degrees. For instance, if we rotate the matrix above, we get\n",
        "\n",
        "  3  6  9\n",
        "  2  5  8    \n",
        "  1  4  7\n",
        "Your function should not modify the argument m provided to the function rotate().\n",
        "\n",
        "Here are some examples of how your function should work.\n",
        "\n",
        " \n",
        "  >>> leftrotate([[1,2],[3,4]])\n",
        "  [[2, 4], [1, 3]]\n",
        "\n",
        "  >>> leftrotate([[1,2,3],[4,5,6],[7,8,9]])\n",
        "  [[3, 6, 9], [2, 5, 8], [1, 4, 7]]\n",
        "\n",
        "  >>> leftrotate([[1,1,1],[2,2,2],[3,3,3]])\n",
        "  [[1, 2, 3], [1, 2, 3], [1, 2, 3]]"
      ]
    },
    {
      "cell_type": "code",
      "metadata": {
        "id": "hGWZ1eHAauZq",
        "outputId": "34a9c1e6-074b-4817-a227-eeebf0969155",
        "colab": {
          "base_uri": "https://localhost:8080/",
          "height": 34
        }
      },
      "source": [
        "def col(l,n):\n",
        "  m=[]\n",
        "  for i in range(len(l)):\n",
        "    m.append(l[i][n])\n",
        "  return m  \n",
        "def leftrotate(l):\n",
        "  m=[]\n",
        "  for i in range(len(l)-1,-1,-1):\n",
        "    m.append(col(l,i))\n",
        "  return m\n",
        "leftrotate([[1,2],[3,4]])"
      ],
      "execution_count": 41,
      "outputs": [
        {
          "output_type": "execute_result",
          "data": {
            "text/plain": [
              "[[2, 4], [1, 3]]"
            ]
          },
          "metadata": {
            "tags": []
          },
          "execution_count": 41
        }
      ]
    }
  ]
}