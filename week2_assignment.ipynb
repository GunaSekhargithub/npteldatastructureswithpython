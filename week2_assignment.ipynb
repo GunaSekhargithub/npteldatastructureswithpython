{
  "nbformat": 4,
  "nbformat_minor": 0,
  "metadata": {
    "colab": {
      "name": "Copy of Welcome to Colaboratory",
      "provenance": [],
      "collapsed_sections": [],
      "toc_visible": true,
      "include_colab_link": true
    },
    "kernelspec": {
      "display_name": "Python 3",
      "name": "python3"
    }
  },
  "cells": [
    {
      "cell_type": "markdown",
      "metadata": {
        "id": "view-in-github",
        "colab_type": "text"
      },
      "source": [
        "<a href=\"https://colab.research.google.com/github/GunaSekhargithub/npteldatastructureswithpython/blob/master/week2_assignment.ipynb\" target=\"_parent\"><img src=\"https://colab.research.google.com/assets/colab-badge.svg\" alt=\"Open In Colab\"/></a>"
      ]
    },
    {
      "cell_type": "markdown",
      "metadata": {
        "id": "8NvrPoFmgHjv"
      },
      "source": [
        "1.A positive integer m is a prime product if it can be written as p×q, where p and q are both primes. .\n",
        "\n",
        "Write a Python function primeproduct(m) that takes an integer m as input and returns True if m is a prime product and False otherwise. (If m is not positive, your function should return False.)\n",
        "\n",
        "Here are some examples of how your function should work.\n",
        "\n",
        ">>> primeproduct(6)\n",
        "True\n",
        "\n",
        ">>> primeproduct(188)\n",
        "False\n",
        "\n",
        ">>> primeproduct(202)\n",
        "True"
      ]
    },
    {
      "cell_type": "code",
      "metadata": {
        "id": "c-7nydBofImH",
        "outputId": "99e162cd-2997-4e35-ed0c-4cccbf883fc1",
        "colab": {
          "base_uri": "https://localhost:8080/",
          "height": 34
        }
      },
      "source": [
        "def primefact(n):\n",
        "  l=[]\n",
        "  for i in range(2,n):\n",
        "    if(n%i==0):\n",
        "      l.append(i)\n",
        "  if (len(l)==2):\n",
        "    return True\n",
        "  else:\n",
        "    return False\n",
        "primefact(202)"
      ],
      "execution_count": 1,
      "outputs": [
        {
          "output_type": "execute_result",
          "data": {
            "text/plain": [
              "True"
            ]
          },
          "metadata": {
            "tags": []
          },
          "execution_count": 1
        }
      ]
    },
    {
      "cell_type": "markdown",
      "metadata": {
        "id": "9xZh6bjUkwmd"
      },
      "source": [
        "2.Write a function delchar(s,c) that takes as input strings s and c, where c has length 1 (i.e., a single character), and returns the string obtained by deleting all occurrences of c in s. If c has length other than 1, the function should return s\n",
        "\n",
        "Here are some examples to show how your function should work.\n",
        "\n",
        " \n",
        ">>> delchar(\"banana\",\"b\")\n",
        "'anana'\n",
        "\n",
        ">>> delchar(\"banana\",\"a\")\n",
        "'bnn'\n",
        "\n",
        ">>> delchar(\"banana\",\"n\")\n",
        "'baaa'\n",
        "\n",
        ">>> delchar(\"banana\",\"an\")\n",
        "'banana'"
      ]
    },
    {
      "cell_type": "code",
      "metadata": {
        "id": "ElWgn7fenEZk",
        "outputId": "b1c41edb-fbbf-4fd6-acc4-a73580562018",
        "colab": {
          "base_uri": "https://localhost:8080/",
          "height": 35
        }
      },
      "source": [
        "def delchar(s,c):\n",
        "  n=\"\"\n",
        "  for i in s:\n",
        "    if (i!=c):\n",
        "      n=n+i\n",
        "  return n\n",
        "delchar('banana','a')"
      ],
      "execution_count": null,
      "outputs": [
        {
          "output_type": "execute_result",
          "data": {
            "application/vnd.google.colaboratory.intrinsic+json": {
              "type": "string"
            },
            "text/plain": [
              "'bnn'"
            ]
          },
          "metadata": {
            "tags": []
          },
          "execution_count": 28
        }
      ]
    },
    {
      "cell_type": "markdown",
      "metadata": {
        "id": "61j6uPJokytl"
      },
      "source": [
        "3.Write a function shuffle(l1,l2) that takes as input two lists, 11 and l2, and returns a list consisting of the first elment in l1, then the first element in l2, then the second element in l2, then the second element in l2, and so on. If the two lists are not of equal length, the remaining elements of the longer list are appended at the end of the shuffled output.\n",
        "\n",
        "Here are some examples to show how your function should work.\n",
        "\n",
        ">>> shuffle([0,2,4],[1,3,5])\n",
        "[0, 1, 2, 3, 4, 5]\n",
        "\n",
        ">>> shuffle([0,2,4],[1])\n",
        "[0, 1, 2, 4]\n",
        "\n",
        ">>> shuffle([0],[1,3,5])\n",
        "[0, 1, 3, 5]"
      ]
    },
    {
      "cell_type": "code",
      "metadata": {
        "id": "D1CZCRTCqp2Q",
        "outputId": "a4e13a90-9ed6-4305-c0b1-0a32a423bf7c",
        "colab": {
          "base_uri": "https://localhost:8080/",
          "height": 34
        }
      },
      "source": [
        "def shuffle(l1,l2):\n",
        "  l=[]\n",
        "  if (len(l1)>=len(l2)):\n",
        "    n=len(l1)\n",
        "    for i in range(len(l2)):\n",
        "      l.append(l1[i])\n",
        "      l.append(l2[i])\n",
        "    l.extend(l1[len(l2):n])\n",
        "  else:\n",
        "    n=len(l2)\n",
        "    for i in range(len(l1)):\n",
        "      l.append(l1[i])\n",
        "      l.append(l2[i])\n",
        "    l.extend(l2[len(l1):n])\n",
        "  return l\n",
        "shuffle([0],[1,3,5])"
      ],
      "execution_count": null,
      "outputs": [
        {
          "output_type": "execute_result",
          "data": {
            "text/plain": [
              "[0, 1, 3, 5]"
            ]
          },
          "metadata": {
            "tags": []
          },
          "execution_count": 35
        }
      ]
    }
  ]
}