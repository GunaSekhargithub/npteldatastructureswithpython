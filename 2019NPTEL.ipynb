{
  "nbformat": 4,
  "nbformat_minor": 0,
  "metadata": {
    "colab": {
      "name": "Copy of Copy of Welcome to Colaboratory",
      "provenance": [],
      "collapsed_sections": [],
      "toc_visible": true,
      "include_colab_link": true
    },
    "kernelspec": {
      "display_name": "Python 3",
      "name": "python3"
    }
  },
  "cells": [
    {
      "cell_type": "markdown",
      "metadata": {
        "id": "view-in-github",
        "colab_type": "text"
      },
      "source": [
        "<a href=\"https://colab.research.google.com/github/GunaSekhargithub/npteldatastructureswithpython/blob/master/2019NPTEL.ipynb\" target=\"_parent\"><img src=\"https://colab.research.google.com/assets/colab-badge.svg\" alt=\"Open In Colab\"/></a>"
      ]
    },
    {
      "cell_type": "markdown",
      "metadata": {
        "id": "6OpDjOxRWdZl"
      },
      "source": [
        "Write a function intreverse(n) that takes as input a positive integer n\n",
        "and returns the integer obtained by reversing the digits in n.\n",
        "Here are some examples of how your function should work.\n",
        " >>> intreverse(783)\n",
        " 387\n",
        " >>> intreverse(242789)\n",
        " 987242\n",
        ">>> intreverse(3)\n",
        "X\n",
        " >>> intreverse(3)\n",
        " 3"
      ]
    },
    {
      "cell_type": "code",
      "metadata": {
        "id": "zn2P1eOSzADe",
        "outputId": "028abc6d-c6a2-4040-f856-8e5c8017faf2",
        "colab": {
          "base_uri": "https://localhost:8080/",
          "height": 34
        }
      },
      "source": [
        "def intreverse(n):\n",
        "  m=0\n",
        "  count=0\n",
        "  temp=n\n",
        "  while (temp>0):\n",
        "    temp=temp//10\n",
        "    count=count+1\n",
        "  for i in range(count):\n",
        "    r=n%10\n",
        "    m=m*10+r\n",
        "    n=n//10\n",
        "  return m\n",
        "intreverse(242789)"
      ],
      "execution_count": null,
      "outputs": [
        {
          "output_type": "execute_result",
          "data": {
            "text/plain": [
              "987242"
            ]
          },
          "metadata": {
            "tags": []
          },
          "execution_count": 17
        }
      ]
    },
    {
      "cell_type": "markdown",
      "metadata": {
        "id": "pwGMLk0AWmUs"
      },
      "source": [
        "Write a function matched(s) that takes as input a string s and checks if\n",
        "the brackets \"(\" and \")\" in s are matched: that is, every \"(\" has a\n",
        "matching \")\" after it and every \")\" has a matching \"(\" before it. Your\n",
        "function should ignore all other symbols that appear in s. Your function\n",
        "should return True if s has matched brackets and False if it does not.\n",
        "Here are some examples to show how your function should work.\n",
        " >>> matched(\"zb%78\")\n",
        " True\n",
        " >>> matched(\"(7)(a\")\n",
        " False\n",
        " >>> matched(\"a)*(?\")\n",
        " False\n",
        " >>> matched(\"((jkl)78(A)&l(8(dd(FJI:),):)?)\")\n",
        " True"
      ]
    },
    {
      "cell_type": "code",
      "metadata": {
        "id": "Ww5aSjzWzyZ0",
        "outputId": "62e4075e-a9d2-4684-ad67-f30f0e6bcf9b",
        "colab": {
          "base_uri": "https://localhost:8080/",
          "height": 34
        }
      },
      "source": [
        "def matched(s):\n",
        "  count=0\n",
        "  for i in range(len(s)):\n",
        "    if (s[i]==\"(\"):\n",
        "      count+=1\n",
        "    elif (s[i]==\")\"):\n",
        "      count-=1\n",
        "  if (count==0 and (s.find(\"(\") < s.find(\")\"))):\n",
        "    return True\n",
        "  else:\n",
        "    return False\n",
        "matched(\"((jkl)78(A)&l(8(dd(FJI:),):)?)\")"
      ],
      "execution_count": null,
      "outputs": [
        {
          "output_type": "execute_result",
          "data": {
            "text/plain": [
              "True"
            ]
          },
          "metadata": {
            "tags": []
          },
          "execution_count": 43
        }
      ]
    },
    {
      "cell_type": "markdown",
      "metadata": {
        "id": "9WskOs-AORUY"
      },
      "source": [
        "Write a function accordian(l) that takes as input a list of integer l and\n",
        "returns True if the absolute difference between each adjacent pair of\n",
        "elements alternates between increasing strictly and decreasing strictly.\n",
        "Here are some examples of how your function should work.\n",
        " >>> accordian([1,5,1])\n",
        " False\n",
        "Explanation: Differences between adjacent elements are 5-1 = 4, 5-1\n",
        "= 4, which are equal.\n",
        " >>> accordian([1,5,2,8,3])\n",
        " True\n",
        "Explanation: Differences between adjacent elements are 5-1 = 4, 5-2\n",
        "= 3, 8-2 = 6, 8-3 = 5, so the differences decrease, increase and then\n",
        "decrease.\n",
        " >>> accordian([-2,1,5,2,8,3])\n",
        " True\n",
        "Explanation: Differences between adjacent elements are 1-(-2) = 3,\n",
        "5-1 = 4, 5-2 = 3, 8-2 = 6, 8-3 = 5, so the differences increase,\n",
        "decrease, increase and then decrease.\n",
        " >>> accordian([1,5,2,8,1])\n",
        " False\n",
        "Explanation: Differences between adjacent elements are 1-(-2) = 3,\n",
        "5-1 = 4, 5-2 = 3, 8-2 = 6, 8-1 = 7, so the differences increase,\n",
        "decrease, increase and then increase again.\n"
      ]
    },
    {
      "cell_type": "code",
      "metadata": {
        "id": "Xfhs9P1SOWfw",
        "outputId": "3cdb82b3-d2ca-446c-fd10-85fb52793ee7",
        "colab": {
          "base_uri": "https://localhost:8080/",
          "height": 34
        }
      },
      "source": [
        "def accordian(l):\n",
        "  g=p=q=[]\n",
        "  for i in range(1,len(l)-1):\n",
        "    if (abs(l[i+1]-l[i])>abs(l[i]-l[i-1])):\n",
        "      g.append(1)\n",
        "    elif (abs(l[i+1]-l[i])<abs(l[i]-l[i-1])):\n",
        "      g.append(0)\n",
        "    else:\n",
        "      return False\n",
        "      break\n",
        "  for i in range(0,len(g),2):\n",
        "    p.append(g[i])\n",
        "  for i in range(1,len(g),2):\n",
        "    q.append(g[i])\n",
        "  if (max(p)==min(p) and max(q)==min(q)):\n",
        "    return True\n",
        "  else:\n",
        "    return False\n",
        "accordian([1,5,2,8,1])"
      ],
      "execution_count": null,
      "outputs": [
        {
          "output_type": "execute_result",
          "data": {
            "text/plain": [
              "False"
            ]
          },
          "metadata": {
            "tags": []
          },
          "execution_count": 19
        }
      ]
    },
    {
      "cell_type": "markdown",
      "metadata": {
        "id": "tJOnr5jEkgZH"
      },
      "source": [
        " Write a Python function frequency(l) that takes as input a list of integers\n",
        "and returns a pair of the form (minfreqlist,maxfreqlist) where\n",
        "minfreqlist is a list of numbers with minimum frequency in l, sorted in\n",
        "ascending order\n",
        "maxfreqlist is a list of numbers with maximum frequency in l, sorted\n",
        "in ascending\n",
        "For instance\n",
        ">>> frequency([13,12,11,13,14,13,7,11,13,14,12])\n",
        "([7], [13])\n",
        ">>> frequency([13,12,11,13,14,13,7,11,13,14,12,14,14])\n",
        "([7], [13, 14])\n",
        ">>> frequency([13,12,11,13,14,13,7,11,13,14,12,14,14,7])\n",
        "([7, 11, 12], [13, 14])"
      ]
    },
    {
      "cell_type": "code",
      "metadata": {
        "id": "7sd9MoaKUskl",
        "outputId": "811ef7b9-ab33-4734-c5e7-51d1ebc10ebf",
        "colab": {
          "base_uri": "https://localhost:8080/",
          "height": 34
        }
      },
      "source": [
        "def frequency(l):\n",
        "  c=[]\n",
        "  a=[]\n",
        "  b=[]\n",
        "  m=list(dict.fromkeys(l))\n",
        "  for i in range(len(m)):\n",
        "    c.append(l.count(m[i]))\n",
        "  for i in range(len(c)):\n",
        "    if (c[i]==min(c)):\n",
        "      a.append(m[i])\n",
        "    elif (c[i]==max(c)):\n",
        "      b.append(m[i])\n",
        "  return (a,b)\n",
        "frequency([13,12,11,13,14,13,7,11,13,14,12]) "
      ],
      "execution_count": null,
      "outputs": [
        {
          "output_type": "execute_result",
          "data": {
            "text/plain": [
              "([7], [13])"
            ]
          },
          "metadata": {
            "tags": []
          },
          "execution_count": 41
        }
      ]
    },
    {
      "cell_type": "code",
      "metadata": {
        "id": "SIQi9c8hgece",
        "outputId": "6f7ec539-1d1e-4a96-8a37-859a009f4129",
        "colab": {
          "base_uri": "https://localhost:8080/",
          "height": 34
        }
      },
      "source": [
        "frequency([13,12,11,13,14,13,7,11,13,14,12,14,14])"
      ],
      "execution_count": null,
      "outputs": [
        {
          "output_type": "execute_result",
          "data": {
            "text/plain": [
              "([7], [13, 14])"
            ]
          },
          "metadata": {
            "tags": []
          },
          "execution_count": 42
        }
      ]
    },
    {
      "cell_type": "markdown",
      "metadata": {
        "id": "TPXhbeRvn7hT"
      },
      "source": [
        "An airline has assigned each city that it serves a unique numeric code. It\n",
        "has collected information about all the direct flights it operates,\n",
        "represented as a list of pairs of the form (i,j), where i is the code of the\n",
        "starting city and j is the code of the destination.\n",
        "It now wants to compute all pairs of cities connected by one intermediate\n",
        "hop --- city i is connected to city j by one intermediate hop if there are\n",
        "direct flights of the form (i,k) and (k,j) for some other city k. The airline is\n",
        "only interested in one hop flights between different cities --- pairs of the\n",
        "form (i,i) are not useful.\n",
        "Write a Python function onehop(l) that takes as input a list of pairs\n",
        "representing direct flights, as described above, and returns a list of all\n",
        "pairs (i,j), where i != j, such that i and j are connected by one hop. Note\n",
        "that it may already be the case that there is a direct flight from i to j. So\n",
        "long as there is an intermediate k with a flight from i to k and from k to j,\n",
        "the list returned by the function should include (i,j). The input list may be in\n",
        "any order. The pairs in the output list should be in lexicographic\n",
        "(dictionary) order. Each pair should be listed exactly once.\n",
        "For instance\n",
        ">>> onehop([(2,3),(1,2)])\n",
        "[(1, 3)]\n",
        ">>> onehop([(2,3),(1,2),(3,1),(1,3),(3,2),(2,4),(4,1)])\n",
        "[(1, 2), (1, 3), (1, 4), (2, 1), (3, 2), (3, 4), (4, 2), (4, 3)]\n",
        ">>> onehop([(1,2),(3,4),(5,6)])\n",
        "[]\n"
      ]
    },
    {
      "cell_type": "code",
      "metadata": {
        "id": "9K45BqShXbiR"
      },
      "source": [
        "def pair(t1,t2):\n",
        "  if (t1[1]==t2[0] and t1[0]!=t2[1]):\n",
        "    return (t1[0],t2[1])\n",
        "  elif (t2[1]==t1[0] and t2[0]!=t1[1]):\n",
        "    return (t2[0],t1[1])\n",
        "  else:\n",
        "    return 'None'"
      ],
      "execution_count": 6,
      "outputs": []
    },
    {
      "cell_type": "code",
      "metadata": {
        "id": "eTmXM0gKYA6S"
      },
      "source": [
        "def onehop(l):\n",
        "  k=[]\n",
        "  for i in range(0,len(l)-1):\n",
        "    for j in range(i+1,len(l)):\n",
        "      if (pair(l[i],l[j]) not in k):\n",
        "        if (pair(l[i],l[j])!='None'):\n",
        "          k.append(pair(l[i],l[j]))\n",
        "  k.sort()\n",
        "  return k"
      ],
      "execution_count": null,
      "outputs": []
    },
    {
      "cell_type": "code",
      "metadata": {
        "id": "6T1kioTWdfJO",
        "outputId": "a9182c6d-c466-435a-a98e-fe37359ffffa",
        "colab": {
          "base_uri": "https://localhost:8080/",
          "height": 34
        }
      },
      "source": [
        "onehop([(2,3),(1,2)])"
      ],
      "execution_count": null,
      "outputs": [
        {
          "output_type": "execute_result",
          "data": {
            "text/plain": [
              "[(1, 3)]"
            ]
          },
          "metadata": {
            "tags": []
          },
          "execution_count": 6
        }
      ]
    },
    {
      "cell_type": "code",
      "metadata": {
        "id": "htyL3D9agG9t",
        "outputId": "81847710-233d-4f5c-d99c-dfa6c6c79a44",
        "colab": {
          "base_uri": "https://localhost:8080/",
          "height": 34
        }
      },
      "source": [
        "onehop([(2,3),(1,2),(3,1),(1,3),(3,2),(2,4),(4,1)])"
      ],
      "execution_count": null,
      "outputs": [
        {
          "output_type": "execute_result",
          "data": {
            "text/plain": [
              "[(1, 2), (1, 3), (1, 4), (2, 1), (3, 2), (3, 4), (4, 2), (4, 3)]"
            ]
          },
          "metadata": {
            "tags": []
          },
          "execution_count": 7
        }
      ]
    },
    {
      "cell_type": "code",
      "metadata": {
        "id": "8MoxSZiu9h0N",
        "outputId": "4fa39d9b-4bec-468a-d48a-19e6e2609f9c",
        "colab": {
          "base_uri": "https://localhost:8080/",
          "height": 1000
        }
      },
      "source": [
        "onehop([(1, 2), (1, 3),\n",
        "(1, 4), (1, 5), (1, 6),\n",
        "(1, 7), (1, 8), (1, 9),\n",
        "(2, 1), (2, 3), (2, 4),\n",
        "(2, 5), (2, 6), (2, 7),\n",
        "(2, 8), (2, 9), (3, 1),\n",
        "(3, 2), (3, 4), (3, 5),\n",
        "(3, 6), (3, 7), (3, 8),\n",
        "(3, 9), (4, 1), (4, 2),\n",
        "(4, 3), (4, 5), (4, 6),\n",
        "(4, 7), (4, 8), (4, 9),\n",
        "(5, 1), (5, 2), (5, 3),\n",
        "(5, 4), (5, 6), (5, 7),\n",
        "(5, 8), (5, 9), (6, 1),\n",
        "(6, 2), (6, 3), (6, 4),\n",
        "(6, 5), (6, 7), (6, 8),\n",
        "(6, 9), (7, 1), (7, 2),\n",
        "(7, 3), (7, 4), (7, 5),\n",
        "(7, 6), (7, 8), (7, 9),\n",
        "(8, 1), (8, 2), (8, 3),\n",
        "(8, 4), (8, 5), (8, 6),\n",
        "(8, 7), (8, 9), (9, 1),\n",
        "(9, 2), (9, 3), (9, 4),\n",
        "(9, 5), (9, 6), (9, 7),\n",
        "(9, 8)])\n"
      ],
      "execution_count": null,
      "outputs": [
        {
          "output_type": "execute_result",
          "data": {
            "text/plain": [
              "[(1, 2),\n",
              " (1, 3),\n",
              " (1, 4),\n",
              " (1, 5),\n",
              " (1, 6),\n",
              " (1, 7),\n",
              " (1, 8),\n",
              " (1, 9),\n",
              " (2, 1),\n",
              " (2, 3),\n",
              " (2, 4),\n",
              " (2, 5),\n",
              " (2, 6),\n",
              " (2, 7),\n",
              " (2, 8),\n",
              " (2, 9),\n",
              " (3, 1),\n",
              " (3, 2),\n",
              " (3, 4),\n",
              " (3, 5),\n",
              " (3, 6),\n",
              " (3, 7),\n",
              " (3, 8),\n",
              " (3, 9),\n",
              " (4, 1),\n",
              " (4, 2),\n",
              " (4, 3),\n",
              " (4, 5),\n",
              " (4, 6),\n",
              " (4, 7),\n",
              " (4, 8),\n",
              " (4, 9),\n",
              " (5, 1),\n",
              " (5, 2),\n",
              " (5, 3),\n",
              " (5, 4),\n",
              " (5, 6),\n",
              " (5, 7),\n",
              " (5, 8),\n",
              " (5, 9),\n",
              " (6, 1),\n",
              " (6, 2),\n",
              " (6, 3),\n",
              " (6, 4),\n",
              " (6, 5),\n",
              " (6, 7),\n",
              " (6, 8),\n",
              " (6, 9),\n",
              " (7, 1),\n",
              " (7, 2),\n",
              " (7, 3),\n",
              " (7, 4),\n",
              " (7, 5),\n",
              " (7, 6),\n",
              " (7, 8),\n",
              " (7, 9),\n",
              " (8, 1),\n",
              " (8, 2),\n",
              " (8, 3),\n",
              " (8, 4),\n",
              " (8, 5),\n",
              " (8, 6),\n",
              " (8, 7),\n",
              " (8, 9),\n",
              " (9, 1),\n",
              " (9, 2),\n",
              " (9, 3),\n",
              " (9, 4),\n",
              " (9, 5),\n",
              " (9, 6),\n",
              " (9, 7),\n",
              " (9, 8)]"
            ]
          },
          "metadata": {
            "tags": []
          },
          "execution_count": 8
        }
      ]
    },
    {
      "cell_type": "code",
      "metadata": {
        "id": "SExKZjZ_gOmY",
        "outputId": "12187134-ff6d-4c06-d9a7-04bd42dd6d81",
        "colab": {
          "base_uri": "https://localhost:8080/",
          "height": 34
        }
      },
      "source": [
        "onehop([(1,2),(3,4),(5,6)])"
      ],
      "execution_count": null,
      "outputs": [
        {
          "output_type": "execute_result",
          "data": {
            "text/plain": [
              "[]"
            ]
          },
          "metadata": {
            "tags": []
          },
          "execution_count": 93
        }
      ]
    },
    {
      "cell_type": "code",
      "metadata": {
        "id": "qPnmZqKyoao8",
        "outputId": "1995ef4a-59fe-48af-b2c3-5de5431ac02e",
        "colab": {
          "base_uri": "https://localhost:8080/",
          "height": 34
        }
      },
      "source": [
        "onehop([(1,2),(2,3),(3,\n",
        "4),(4,5),(5,1)])"
      ],
      "execution_count": null,
      "outputs": [
        {
          "output_type": "execute_result",
          "data": {
            "text/plain": [
              "[(1, 3), (5, 2), (2, 4), (3, 5), (4, 1)]"
            ]
          },
          "metadata": {
            "tags": []
          },
          "execution_count": 95
        }
      ]
    },
    {
      "cell_type": "code",
      "metadata": {
        "id": "dIEKTy9wooDx",
        "outputId": "47fd6f24-35f6-482e-c907-37d4e68f8fdc",
        "colab": {
          "base_uri": "https://localhost:8080/",
          "height": 34
        }
      },
      "source": [
        "onehop([(1,2),(2,1),(3,\n",
        "4),(4,3)])"
      ],
      "execution_count": null,
      "outputs": [
        {
          "output_type": "execute_result",
          "data": {
            "text/plain": [
              "[]"
            ]
          },
          "metadata": {
            "tags": []
          },
          "execution_count": 96
        }
      ]
    },
    {
      "cell_type": "code",
      "metadata": {
        "id": "aF3Nql9KludM",
        "outputId": "ce3111f7-166a-49ac-d032-bc3b29a10877",
        "colab": {
          "base_uri": "https://localhost:8080/",
          "height": 1000
        }
      },
      "source": [
        "#Implementation of RSA algorithm to generate large prime numbers\n",
        "import time\n",
        "# function to calculate large prime numbers using Seive of eratosthenes algorithm def\n",
        "def prime_num_cal(n):\n",
        "  # creating a list of numbers substituted with \"True\" in place\n",
        "  range_of_n = [True for x in range(n+1)]\n",
        "  #Smallest prime number\n",
        "  p=2\n",
        "  while (p*p <= n):\n",
        "    # If not 'false' then number is not prime if\n",
        "    if (range_of_n[p] == True):\n",
        "      for i in range(p*p , n+1 , p):\n",
        "        #Marking 'True' for the multiple of 'P'\n",
        "        range_of_n[i]=False\n",
        "        p=p+1\n",
        "      prime_numbers=[]\n",
        "      for i in range(int(n*0.5),n+1):\n",
        "        if  (range_of_n[i]==True):\n",
        "          prime_numbers.append(i)\n",
        "  return prime_numbers\n",
        "# calculating the modulus for large numbers def\n",
        "def mod_calculator(num,mod):\n",
        "  residual = 0 \n",
        "  temp = str(num)\n",
        "  for i in range(0,len(temp)):\n",
        "    residual = (residual*10 + int(temp[i]))%mod\n",
        "  return residual\n",
        "# calculating gcd using euclidian method\n",
        "def gcd(a,b):\n",
        "  if (a==0):\n",
        "    return b \n",
        "  return gcd(b%a,a)\n",
        "# calculation of modulo inverse using extended euclidian method\n",
        "def modInverse(a, m) :\n",
        "  m0 = m\n",
        "  y = 0\n",
        "  x = 1\n",
        "  if (m == 1) :\n",
        "    return 0\n",
        "  while (a > 1) :\n",
        "    q = a // m \n",
        "    t = m\n",
        "    m = a % m\n",
        "    a = t\n",
        "    t = y\n",
        "    y = x - q * y \n",
        "    x = t\n",
        "  if (x < 0) :\n",
        "    x = x + m0\n",
        "  return x\n",
        "# generating prime numbers\n",
        "prime_num1 = prime_num_cal(200)[-1]\n",
        "prime_num2 = prime_num_cal(300)[-1]\n",
        "\n",
        "# calculating 'n' and euler's totient function n=\n",
        "n=prime_num1 * prime_num2\n",
        "eulers_totient = (prime_num1-1) * (prime_num2-1)\n",
        "# calculating public key for encryption\n",
        "for i in range(eulers_totient,int(eulers_totient*0.5),-1): \n",
        "  if (i%2==1):\n",
        "    if (gcd(eulers_totient,i)==1):\n",
        "      public_key=i\n",
        "    break\n",
        "    # calculating private key for decryption\n",
        "private_key = (modInverse(public_key,eulers_totient))\n",
        "# creating dictionary of alphabets and there resp positions\n",
        "alpha = [chr(x) for x in range(ord('a'), ord('z') + 1)] \n",
        "pos = [x for x in range(1,27)]\n",
        "enc_dict = {k:v for (k,v) in zip(alpha,pos)}\n",
        "dec_dict = {k:v for (k,v) in zip(pos,alpha)}\n",
        "enc_dict[' ']= 0\n",
        "dec_dict[0]=' ' \n",
        "#print(enc_dict,\"\\n\",dec_dict)\n",
        "# user section \n",
        "initial =time.time()\n",
        "inp = \"trump killed kennedy and usa dropped the nuclear bomb\"\n",
        "position,enc_text,dec_text = [],[],[]\n",
        "for i in inp:\n",
        "  position.append(enc_dict[i])\n",
        "for i in position:\n",
        "  enc_text.append(str(mod_calculator(pow(i,public_key),n)))\n",
        "  print(\"\\nencrypted text : \"+''.join(enc_text)+\"\\n\") \n",
        "for i in enc_text:\n",
        "  dec_text.append(dec_dict[mod_calculator(pow(int(i),private_key),n)])\n",
        "print(\"decrypted text : \"+''.join(dec_text))\n",
        "end = time.time()\n",
        "print(\"\\ntime elapsed \",end-initial)"
      ],
      "execution_count": 5,
      "outputs": [
        {
          "output_type": "stream",
          "text": [
            "\n",
            "encrypted text : 56526\n",
            "\n",
            "\n",
            "encrypted text : 5652642973\n",
            "\n",
            "\n",
            "encrypted text : 565264297336834\n",
            "\n",
            "\n",
            "encrypted text : 5652642973368344225\n",
            "\n",
            "\n",
            "encrypted text : 565264297336834422540907\n",
            "\n",
            "\n",
            "encrypted text : 5652642973368344225409070\n",
            "\n",
            "\n",
            "encrypted text : 565264297336834422540907027046\n",
            "\n",
            "\n",
            "encrypted text : 56526429733683442254090702704626445\n",
            "\n",
            "\n",
            "encrypted text : 5652642973368344225409070270462644534709\n",
            "\n",
            "\n",
            "encrypted text : 565264297336834422540907027046264453470934709\n",
            "\n",
            "\n",
            "encrypted text : 56526429733683442254090702704626445347093470947601\n",
            "\n",
            "\n",
            "encrypted text : 5652642973368344225409070270462644534709347094760144626\n",
            "\n",
            "\n",
            "encrypted text : 56526429733683442254090702704626445347093470947601446260\n",
            "\n",
            "\n",
            "encrypted text : 5652642973368344225409070270462644534709347094760144626027046\n",
            "\n",
            "\n",
            "encrypted text : 565264297336834422540907027046264453470934709476014462602704647601\n",
            "\n",
            "\n",
            "encrypted text : 56526429733683442254090702704626445347093470947601446260270464760155251\n",
            "\n",
            "\n",
            "encrypted text : 5652642973368344225409070270462644534709347094760144626027046476015525155251\n",
            "\n",
            "\n",
            "encrypted text : 565264297336834422540907027046264453470934709476014462602704647601552515525147601\n",
            "\n",
            "\n",
            "encrypted text : 56526429733683442254090702704626445347093470947601446260270464760155251552514760144626\n",
            "\n",
            "\n",
            "encrypted text : 5652642973368344225409070270462644534709347094760144626027046476015525155251476014462657121\n",
            "\n",
            "\n",
            "encrypted text : 56526429733683442254090702704626445347093470947601446260270464760155251552514760144626571210\n",
            "\n",
            "\n",
            "encrypted text : 565264297336834422540907027046264453470934709476014462602704647601552515525147601446265712101\n",
            "\n",
            "\n",
            "encrypted text : 56526429733683442254090702704626445347093470947601446260270464760155251552514760144626571210155251\n",
            "\n",
            "\n",
            "encrypted text : 5652642973368344225409070270462644534709347094760144626027046476015525155251476014462657121015525144626\n",
            "\n",
            "\n",
            "encrypted text : 56526429733683442254090702704626445347093470947601446260270464760155251552514760144626571210155251446260\n",
            "\n",
            "\n",
            "encrypted text : 5652642973368344225409070270462644534709347094760144626027046476015525155251476014462657121015525144626036834\n",
            "\n",
            "\n",
            "encrypted text : 565264297336834422540907027046264453470934709476014462602704647601552515525147601446265712101552514462603683434448\n",
            "\n",
            "\n",
            "encrypted text : 5652642973368344225409070270462644534709347094760144626027046476015525155251476014462657121015525144626036834344481\n",
            "\n",
            "\n",
            "encrypted text : 56526429733683442254090702704626445347093470947601446260270464760155251552514760144626571210155251446260368343444810\n",
            "\n",
            "\n",
            "encrypted text : 5652642973368344225409070270462644534709347094760144626027046476015525155251476014462657121015525144626036834344481044626\n",
            "\n",
            "\n",
            "encrypted text : 565264297336834422540907027046264453470934709476014462602704647601552515525147601446265712101552514462603683434448104462642973\n",
            "\n",
            "\n",
            "encrypted text : 56526429733683442254090702704626445347093470947601446260270464760155251552514760144626571210155251446260368343444810446264297315867\n",
            "\n",
            "\n",
            "encrypted text : 5652642973368344225409070270462644534709347094760144626027046476015525155251476014462657121015525144626036834344481044626429731586740907\n",
            "\n",
            "\n",
            "encrypted text : 565264297336834422540907027046264453470934709476014462602704647601552515525147601446265712101552514462603683434448104462642973158674090740907\n",
            "\n",
            "\n",
            "encrypted text : 56526429733683442254090702704626445347093470947601446260270464760155251552514760144626571210155251446260368343444810446264297315867409074090747601\n",
            "\n",
            "\n",
            "encrypted text : 5652642973368344225409070270462644534709347094760144626027046476015525155251476014462657121015525144626036834344481044626429731586740907409074760144626\n",
            "\n",
            "\n",
            "encrypted text : 56526429733683442254090702704626445347093470947601446260270464760155251552514760144626571210155251446260368343444810446264297315867409074090747601446260\n",
            "\n",
            "\n",
            "encrypted text : 5652642973368344225409070270462644534709347094760144626027046476015525155251476014462657121015525144626036834344481044626429731586740907409074760144626056526\n",
            "\n",
            "\n",
            "encrypted text : 565264297336834422540907027046264453470934709476014462602704647601552515525147601446265712101552514462603683434448104462642973158674090740907476014462605652622313\n",
            "\n",
            "\n",
            "encrypted text : 56526429733683442254090702704626445347093470947601446260270464760155251552514760144626571210155251446260368343444810446264297315867409074090747601446260565262231347601\n",
            "\n",
            "\n",
            "encrypted text : 565264297336834422540907027046264453470934709476014462602704647601552515525147601446265712101552514462603683434448104462642973158674090740907476014462605652622313476010\n",
            "\n",
            "\n",
            "encrypted text : 56526429733683442254090702704626445347093470947601446260270464760155251552514760144626571210155251446260368343444810446264297315867409074090747601446260565262231347601055251\n",
            "\n",
            "\n",
            "encrypted text : 5652642973368344225409070270462644534709347094760144626027046476015525155251476014462657121015525144626036834344481044626429731586740907409074760144626056526223134760105525136834\n",
            "\n",
            "\n",
            "encrypted text : 565264297336834422540907027046264453470934709476014462602704647601552515525147601446265712101552514462603683434448104462642973158674090740907476014462605652622313476010552513683419834\n",
            "\n",
            "\n",
            "encrypted text : 56526429733683442254090702704626445347093470947601446260270464760155251552514760144626571210155251446260368343444810446264297315867409074090747601446260565262231347601055251368341983434709\n",
            "\n",
            "\n",
            "encrypted text : 5652642973368344225409070270462644534709347094760144626027046476015525155251476014462657121015525144626036834344481044626429731586740907409074760144626056526223134760105525136834198343470947601\n",
            "\n",
            "\n",
            "encrypted text : 56526429733683442254090702704626445347093470947601446260270464760155251552514760144626571210155251446260368343444810446264297315867409074090747601446260565262231347601055251368341983434709476011\n",
            "\n",
            "\n",
            "encrypted text : 5652642973368344225409070270462644534709347094760144626027046476015525155251476014462657121015525144626036834344481044626429731586740907409074760144626056526223134760105525136834198343470947601142973\n",
            "\n",
            "\n",
            "encrypted text : 56526429733683442254090702704626445347093470947601446260270464760155251552514760144626571210155251446260368343444810446264297315867409074090747601446260565262231347601055251368341983434709476011429730\n",
            "\n",
            "\n",
            "encrypted text : 5652642973368344225409070270462644534709347094760144626027046476015525155251476014462657121015525144626036834344481044626429731586740907409074760144626056526223134760105525136834198343470947601142973029751\n",
            "\n",
            "\n",
            "encrypted text : 565264297336834422540907027046264453470934709476014462602704647601552515525147601446265712101552514462603683434448104462642973158674090740907476014462605652622313476010552513683419834347094760114297302975115867\n",
            "\n",
            "\n",
            "encrypted text : 5652642973368344225409070270462644534709347094760144626027046476015525155251476014462657121015525144626036834344481044626429731586740907409074760144626056526223134760105525136834198343470947601142973029751158674225\n",
            "\n",
            "\n",
            "encrypted text : 565264297336834422540907027046264453470934709476014462602704647601552515525147601446265712101552514462603683434448104462642973158674090740907476014462605652622313476010552513683419834347094760114297302975115867422529751\n",
            "\n",
            "decrypted text : trump killed kennedy and usa dropped the nuclear bomb\n",
            "\n",
            "time elapsed  57.27268838882446\n"
          ],
          "name": "stdout"
        }
      ]
    },
    {
      "cell_type": "code",
      "metadata": {
        "id": "Zk0Vc5KUpkq5",
        "outputId": "422f49e5-1816-4858-d725-8e6e43bcb2b7",
        "colab": {
          "base_uri": "https://localhost:8080/",
          "height": 34
        }
      },
      "source": [
        "pip install pip"
      ],
      "execution_count": 7,
      "outputs": [
        {
          "output_type": "stream",
          "text": [
            "Requirement already satisfied: pip in /usr/local/lib/python3.6/dist-packages (19.3.1)\n"
          ],
          "name": "stdout"
        }
      ]
    },
    {
      "cell_type": "code",
      "metadata": {
        "id": "c1kpPvwUpwp9",
        "outputId": "ca6c156a-f499-47e4-830f-d85ffda2eec9",
        "colab": {
          "base_uri": "https://localhost:8080/",
          "height": 34
        }
      },
      "source": [
        "pip --version"
      ],
      "execution_count": 8,
      "outputs": [
        {
          "output_type": "stream",
          "text": [
            "pip 19.3.1 from /usr/local/lib/python3.6/dist-packages/pip (python 3.6)\n"
          ],
          "name": "stdout"
        }
      ]
    },
    {
      "cell_type": "code",
      "metadata": {
        "id": "MUIUKqokp5ZH",
        "outputId": "f6b9a556-7f00-40ad-f26e-e3efc6bf5731",
        "colab": {
          "base_uri": "https://localhost:8080/",
          "height": 105
        }
      },
      "source": [
        "pip install multiprocessing"
      ],
      "execution_count": 9,
      "outputs": [
        {
          "output_type": "stream",
          "text": [
            "Collecting multiprocessing\n",
            "\u001b[?25l  Downloading https://files.pythonhosted.org/packages/b8/8a/38187040f36cec8f98968502992dca9b00cc5e88553e01884ba29cbe6aac/multiprocessing-2.6.2.1.tar.gz (108kB)\n",
            "\r\u001b[K     |███                             | 10kB 17.0MB/s eta 0:00:01\r\u001b[K     |██████                          | 20kB 1.7MB/s eta 0:00:01\r\u001b[K     |█████████                       | 30kB 2.1MB/s eta 0:00:01\r\u001b[K     |████████████▏                   | 40kB 2.4MB/s eta 0:00:01\r\u001b[K     |███████████████▏                | 51kB 2.0MB/s eta 0:00:01\r\u001b[K     |██████████████████▏             | 61kB 2.3MB/s eta 0:00:01\r\u001b[K     |█████████████████████▎          | 71kB 2.4MB/s eta 0:00:01\r\u001b[K     |████████████████████████▎       | 81kB 2.7MB/s eta 0:00:01\r\u001b[K     |███████████████████████████▎    | 92kB 2.9MB/s eta 0:00:01\r\u001b[K     |██████████████████████████████▍ | 102kB 2.8MB/s eta 0:00:01\r\u001b[K     |████████████████████████████████| 112kB 2.8MB/s \n",
            "\u001b[31mERROR: Command errored out with exit status 1: python setup.py egg_info Check the logs for full command output.\u001b[0m\n",
            "\u001b[?25h"
          ],
          "name": "stdout"
        }
      ]
    },
    {
      "cell_type": "code",
      "metadata": {
        "id": "fIzYqQiJo3oe",
        "outputId": "fc5afc45-ed46-42df-9ec0-be130a05d4af",
        "colab": {
          "base_uri": "https://localhost:8080/",
          "height": 105
        }
      },
      "source": [
        "#Implementation of RSA algorithm to generate large prime numbers\n",
        "import multiprocessing\n",
        "import time\n",
        "# function to calculate large prime numbers using Seive of eratosthenes algorithm \n",
        "def prime_num_cal(n):\n",
        "  # creating a list of numbers substituted with \"True\" in place\n",
        "  range_of_n = [True for x in range(n+1)]\n",
        "  #Smallest prime number\n",
        "  p=2\n",
        "  while (p*p <= n):\n",
        "  # If not 'false' then number is not prime if\n",
        "    if (range_of_n[p] == True):\n",
        "      for i in range(p*p , n+1 , p):\n",
        "        #Marking 'True' for the multiple of 'P'\n",
        "        range_of_n[i]=False\n",
        "        p=p+1\n",
        "      prime_numbers=[]\n",
        "    for i in range(int(n*0.5),n+1):\n",
        "      if (range_of_n[i]==True):\n",
        "        prime_numbers.append(i)\n",
        "  return prime_numbers\n",
        "# calculating the modulus for large numbers\n",
        "def mod_calculator(num,mod):\n",
        "  residual = 0\n",
        "  temp = str(num)\n",
        "  for i in range(0,len(temp)):\n",
        "    residual = (residual*10 + int(temp[i]))%mod\n",
        "  return residual\n",
        "# calculating gcd using euclidian method\n",
        "def gcd(a,b):\n",
        "  if (a==0):\n",
        "    return b \n",
        "  return gcd(b%a,a)\n",
        "# calculation of modulo inverse using extended euclidian method\n",
        "def modInverse(a, m) :\n",
        "  m0 = m\n",
        "  y = 0\n",
        "  x = 1\n",
        "  if (m == 1) :\n",
        "    return 0\n",
        "  while (a > 1) :\n",
        "    q = a // m \n",
        "    t = m\n",
        "    m = a % m\n",
        "    a = t\n",
        "    t = y\n",
        "    y = x - q * y \n",
        "    x = t\n",
        "  if (x < 0) :\n",
        "    x = x + m0\n",
        "  return x\n",
        "# generating prime numbers\n",
        "prime_num1 = prime_num_cal(200)[-1]\n",
        "prime_num2 = prime_num_cal(300)[-1]\n",
        "# calculating 'n' and euler's totient function\n",
        "n= prime_num1 * prime_num2\n",
        "eulers_totient = (prime_num1-1) * (prime_num2-1) #calculating public key for encryption\n",
        "for i in range(eulers_totient,int(eulers_totient*0.5),-1): \n",
        "  if (i%2==1):\n",
        "    if (gcd(eulers_totient,i)==1):\n",
        "      public_key=i\n",
        "    break\n",
        "# calculating private key for decryption\n",
        "private_key = (modInverse(public_key,eulers_totient))\n",
        "# creating dictionary of alphabets and there resp positions\n",
        "alpha = [chr(x) for x in range(ord('a'), ord('z') + 1)] \n",
        "pos = [x for x in range(1,27)]\n",
        "enc_dict = {k:v for (k,v) in zip(alpha,pos)}\n",
        "dec_dict = {k:v for (k,v) in zip(pos,alpha)}\n",
        "enc_dict[' ']= 0\n",
        "dec_dict[0]=' ' \n",
        "#print(enc_dict,\"\\n\",dec_dict) \n",
        "def mod_calculator_par(num):\n",
        "  residual = 0\n",
        "  temp = str(num)\n",
        "  for i in range(0,len(temp)):\n",
        "    residual = (residual*10 + int(temp[i]))%n\n",
        "  return residual\n",
        "inp = \"trump killed kennedy and usa dropped the nuclear bomb\" \n",
        "if __name__ ==' main ':\n",
        "  # user section \n",
        "  initial =time.time()\n",
        "string = list(inp) \n",
        "position_dec,position_enc,enc_text,dec_text = [],[],[],[]\n",
        "for i in string:\n",
        "  position_dec.append(enc_dict[i])\n",
        "position_dec = [pow(x,public_key) for x in position_dec] \n",
        "p_obj = multiprocessing.Pool()\n",
        "enc_text = p_obj.map(mod_calculator_par,position_dec)\n",
        "p_obj.close()\n",
        "p_obj.join()\n",
        "dup_enc_text = []\n",
        "dup_enc_text = [str(x) for x in enc_text]\n",
        "print(\"encrypted text : \"+''.join(dup_enc_text))\n",
        "position_enc = [pow(x,private_key) for x in enc_text]\n",
        "p_obj2 = multiprocessing.Pool()\n",
        "dec_text = p_obj2.map(mod_calculator_par,position_enc)\n",
        "p_obj2.close()\n",
        "p_obj2.join()\n",
        "dec_text1=[]\n",
        "for text in dec_text:\n",
        "  dec_text1.append(dec_dict[text])\n",
        "print(\"decrypted text : \"+ ''.join(dec_text1))\n",
        "end = time.time()\n",
        "print(\"\\ntime elapsed \",end-initial)"
      ],
      "execution_count": 12,
      "outputs": [
        {
          "output_type": "stream",
          "text": [
            "encrypted text : 565264297336834422540907027046264453470934709476014462602704647601552515525147601446265712101552514462603683434448104462642973158674090740907476014462605652622313476010552513683419834347094760114297302975115867422529751\n",
            "decrypted text : trump killed kennedy and usa dropped the nuclear bomb\n",
            "\n",
            "time elapsed  928.8035616874695\n"
          ],
          "name": "stdout"
        }
      ]
    }
  ]
}