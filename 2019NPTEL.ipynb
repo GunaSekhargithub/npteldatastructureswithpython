{
  "nbformat": 4,
  "nbformat_minor": 0,
  "metadata": {
    "colab": {
      "name": "Welcome to Colaboratory",
      "provenance": [],
      "collapsed_sections": [],
      "toc_visible": true,
      "include_colab_link": true
    },
    "kernelspec": {
      "display_name": "Python 3",
      "name": "python3"
    }
  },
  "cells": [
    {
      "cell_type": "markdown",
      "metadata": {
        "id": "view-in-github",
        "colab_type": "text"
      },
      "source": [
        "<a href=\"https://colab.research.google.com/github/GunaSekhargithub/npteldatastructureswithpython/blob/master/2019NPTEL.ipynb\" target=\"_parent\"><img src=\"https://colab.research.google.com/assets/colab-badge.svg\" alt=\"Open In Colab\"/></a>"
      ]
    },
    {
      "cell_type": "code",
      "metadata": {
        "id": "zn2P1eOSzADe",
        "outputId": "028abc6d-c6a2-4040-f856-8e5c8017faf2",
        "colab": {
          "base_uri": "https://localhost:8080/",
          "height": 34
        }
      },
      "source": [
        "def intreverse(n):\n",
        "  m=0\n",
        "  count=0\n",
        "  temp=n\n",
        "  while (temp>0):\n",
        "    temp=temp//10\n",
        "    count=count+1\n",
        "  for i in range(count):\n",
        "    r=n%10\n",
        "    m=m*10+r\n",
        "    n=n//10\n",
        "  return m\n",
        "intreverse(242789)"
      ],
      "execution_count": 17,
      "outputs": [
        {
          "output_type": "execute_result",
          "data": {
            "text/plain": [
              "987242"
            ]
          },
          "metadata": {
            "tags": []
          },
          "execution_count": 17
        }
      ]
    },
    {
      "cell_type": "code",
      "metadata": {
        "id": "Ww5aSjzWzyZ0",
        "outputId": "ccb8cdee-ecc2-467e-de2b-4395a0060e1d",
        "colab": {
          "base_uri": "https://localhost:8080/",
          "height": 34
        }
      },
      "source": [
        "def matched(s):\n",
        "  count=0\n",
        "  for i in range(len(s)):\n",
        "    if (s[i]==\"(\"):\n",
        "      count+=1\n",
        "    elif (s[i]==\")\"):\n",
        "      count-=1\n",
        "  if (count==0 and (s.find(\"(\") < s.find(\")\"))):\n",
        "    return True\n",
        "  else:\n",
        "    return False\n",
        "matched(\"((jkl)78(A)&l(8(dd(FJI:),):)?)\")"
      ],
      "execution_count": 30,
      "outputs": [
        {
          "output_type": "execute_result",
          "data": {
            "text/plain": [
              "True"
            ]
          },
          "metadata": {
            "tags": []
          },
          "execution_count": 30
        }
      ]
    }
  ]
}