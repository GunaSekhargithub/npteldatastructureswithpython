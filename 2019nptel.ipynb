{
  "nbformat": 4,
  "nbformat_minor": 0,
  "metadata": {
    "colab": {
      "name": "Copy of Welcome to Colaboratory",
      "provenance": [],
      "collapsed_sections": [],
      "toc_visible": true,
      "include_colab_link": true
    },
    "kernelspec": {
      "display_name": "Python 3",
      "name": "python3"
    }
  },
  "cells": [
    {
      "cell_type": "markdown",
      "metadata": {
        "id": "view-in-github",
        "colab_type": "text"
      },
      "source": [
        "<a href=\"https://colab.research.google.com/github/GunaSekhargithub/npteldatastructureswithpython/blob/master/2019nptel.ipynb\" target=\"_parent\"><img src=\"https://colab.research.google.com/assets/colab-badge.svg\" alt=\"Open In Colab\"/></a>"
      ]
    },
    {
      "cell_type": "markdown",
      "metadata": {
        "id": "6OpDjOxRWdZl"
      },
      "source": [
        "Write a function intreverse(n) that takes as input a positive integer n\n",
        "and returns the integer obtained by reversing the digits in n.\n",
        "Here are some examples of how your function should work.\n",
        " >>> intreverse(783)\n",
        " 387\n",
        " >>> intreverse(242789)\n",
        " 987242\n",
        ">>> intreverse(3)\n",
        "X\n",
        " >>> intreverse(3)\n",
        " 3"
      ]
    },
    {
      "cell_type": "code",
      "metadata": {
        "id": "zn2P1eOSzADe",
        "outputId": "028abc6d-c6a2-4040-f856-8e5c8017faf2",
        "colab": {
          "base_uri": "https://localhost:8080/",
          "height": 34
        }
      },
      "source": [
        "def intreverse(n):\n",
        "  m=0\n",
        "  count=0\n",
        "  temp=n\n",
        "  while (temp>0):\n",
        "    temp=temp//10\n",
        "    count=count+1\n",
        "  for i in range(count):\n",
        "    r=n%10\n",
        "    m=m*10+r\n",
        "    n=n//10\n",
        "  return m\n",
        "intreverse(242789)"
      ],
      "execution_count": null,
      "outputs": [
        {
          "output_type": "execute_result",
          "data": {
            "text/plain": [
              "987242"
            ]
          },
          "metadata": {
            "tags": []
          },
          "execution_count": 17
        }
      ]
    },
    {
      "cell_type": "markdown",
      "metadata": {
        "id": "pwGMLk0AWmUs"
      },
      "source": [
        "Write a function matched(s) that takes as input a string s and checks if\n",
        "the brackets \"(\" and \")\" in s are matched: that is, every \"(\" has a\n",
        "matching \")\" after it and every \")\" has a matching \"(\" before it. Your\n",
        "function should ignore all other symbols that appear in s. Your function\n",
        "should return True if s has matched brackets and False if it does not.\n",
        "Here are some examples to show how your function should work.\n",
        " >>> matched(\"zb%78\")\n",
        " True\n",
        " >>> matched(\"(7)(a\")\n",
        " False\n",
        " >>> matched(\"a)*(?\")\n",
        " False\n",
        " >>> matched(\"((jkl)78(A)&l(8(dd(FJI:),):)?)\")\n",
        " True"
      ]
    },
    {
      "cell_type": "code",
      "metadata": {
        "id": "Ww5aSjzWzyZ0",
        "outputId": "62e4075e-a9d2-4684-ad67-f30f0e6bcf9b",
        "colab": {
          "base_uri": "https://localhost:8080/",
          "height": 34
        }
      },
      "source": [
        "def matched(s):\n",
        "  count=0\n",
        "  for i in range(len(s)):\n",
        "    if (s[i]==\"(\"):\n",
        "      count+=1\n",
        "    elif (s[i]==\")\"):\n",
        "      count-=1\n",
        "  if (count==0 and (s.find(\"(\") < s.find(\")\"))):\n",
        "    return True\n",
        "  else:\n",
        "    return False\n",
        "matched(\"((jkl)78(A)&l(8(dd(FJI:),):)?)\")"
      ],
      "execution_count": null,
      "outputs": [
        {
          "output_type": "execute_result",
          "data": {
            "text/plain": [
              "True"
            ]
          },
          "metadata": {
            "tags": []
          },
          "execution_count": 43
        }
      ]
    },
    {
      "cell_type": "markdown",
      "metadata": {
        "id": "9WskOs-AORUY"
      },
      "source": [
        "Write a function accordian(l) that takes as input a list of integer l and\n",
        "returns True if the absolute difference between each adjacent pair of\n",
        "elements alternates between increasing strictly and decreasing strictly.\n",
        "Here are some examples of how your function should work.\n",
        " >>> accordian([1,5,1])\n",
        " False\n",
        "Explanation: Differences between adjacent elements are 5-1 = 4, 5-1\n",
        "= 4, which are equal.\n",
        " >>> accordian([1,5,2,8,3])\n",
        " True\n",
        "Explanation: Differences between adjacent elements are 5-1 = 4, 5-2\n",
        "= 3, 8-2 = 6, 8-3 = 5, so the differences decrease, increase and then\n",
        "decrease.\n",
        " >>> accordian([-2,1,5,2,8,3])\n",
        " True\n",
        "Explanation: Differences between adjacent elements are 1-(-2) = 3,\n",
        "5-1 = 4, 5-2 = 3, 8-2 = 6, 8-3 = 5, so the differences increase,\n",
        "decrease, increase and then decrease.\n",
        " >>> accordian([1,5,2,8,1])\n",
        " False\n",
        "Explanation: Differences between adjacent elements are 1-(-2) = 3,\n",
        "5-1 = 4, 5-2 = 3, 8-2 = 6, 8-1 = 7, so the differences increase,\n",
        "decrease, increase and then increase again.\n"
      ]
    },
    {
      "cell_type": "code",
      "metadata": {
        "id": "Xfhs9P1SOWfw",
        "outputId": "3cdb82b3-d2ca-446c-fd10-85fb52793ee7",
        "colab": {
          "base_uri": "https://localhost:8080/",
          "height": 34
        }
      },
      "source": [
        "def accordian(l):\n",
        "  g=p=q=[]\n",
        "  for i in range(1,len(l)-1):\n",
        "    if (abs(l[i+1]-l[i])>abs(l[i]-l[i-1])):\n",
        "      g.append(1)\n",
        "    elif (abs(l[i+1]-l[i])<abs(l[i]-l[i-1])):\n",
        "      g.append(0)\n",
        "    else:\n",
        "      return False\n",
        "      break\n",
        "  for i in range(0,len(g),2):\n",
        "    p.append(g[i])\n",
        "  for i in range(1,len(g),2):\n",
        "    q.append(g[i])\n",
        "  if (max(p)==min(p) and max(q)==min(q)):\n",
        "    return True\n",
        "  else:\n",
        "    return False\n",
        "accordian([1,5,2,8,1])"
      ],
      "execution_count": null,
      "outputs": [
        {
          "output_type": "execute_result",
          "data": {
            "text/plain": [
              "False"
            ]
          },
          "metadata": {
            "tags": []
          },
          "execution_count": 19
        }
      ]
    },
    {
      "cell_type": "markdown",
      "metadata": {
        "id": "tJOnr5jEkgZH"
      },
      "source": [
        " Write a Python function frequency(l) that takes as input a list of integers\n",
        "and returns a pair of the form (minfreqlist,maxfreqlist) where\n",
        "minfreqlist is a list of numbers with minimum frequency in l, sorted in\n",
        "ascending order\n",
        "maxfreqlist is a list of numbers with maximum frequency in l, sorted\n",
        "in ascending\n",
        "For instance\n",
        ">>> frequency([13,12,11,13,14,13,7,11,13,14,12])\n",
        "([7], [13])\n",
        ">>> frequency([13,12,11,13,14,13,7,11,13,14,12,14,14])\n",
        "([7], [13, 14])\n",
        ">>> frequency([13,12,11,13,14,13,7,11,13,14,12,14,14,7])\n",
        "([7, 11, 12], [13, 14])"
      ]
    },
    {
      "cell_type": "code",
      "metadata": {
        "id": "7sd9MoaKUskl",
        "outputId": "811ef7b9-ab33-4734-c5e7-51d1ebc10ebf",
        "colab": {
          "base_uri": "https://localhost:8080/",
          "height": 34
        }
      },
      "source": [
        "def frequency(l):\n",
        "  c=[]\n",
        "  a=[]\n",
        "  b=[]\n",
        "  m=list(dict.fromkeys(l))\n",
        "  for i in range(len(m)):\n",
        "    c.append(l.count(m[i]))\n",
        "  for i in range(len(c)):\n",
        "    if (c[i]==min(c)):\n",
        "      a.append(m[i])\n",
        "    elif (c[i]==max(c)):\n",
        "      b.append(m[i])\n",
        "  return (a,b)\n",
        "frequency([13,12,11,13,14,13,7,11,13,14,12]) "
      ],
      "execution_count": null,
      "outputs": [
        {
          "output_type": "execute_result",
          "data": {
            "text/plain": [
              "([7], [13])"
            ]
          },
          "metadata": {
            "tags": []
          },
          "execution_count": 41
        }
      ]
    },
    {
      "cell_type": "code",
      "metadata": {
        "id": "SIQi9c8hgece",
        "outputId": "6f7ec539-1d1e-4a96-8a37-859a009f4129",
        "colab": {
          "base_uri": "https://localhost:8080/",
          "height": 34
        }
      },
      "source": [
        "frequency([13,12,11,13,14,13,7,11,13,14,12,14,14])"
      ],
      "execution_count": null,
      "outputs": [
        {
          "output_type": "execute_result",
          "data": {
            "text/plain": [
              "([7], [13, 14])"
            ]
          },
          "metadata": {
            "tags": []
          },
          "execution_count": 42
        }
      ]
    },
    {
      "cell_type": "markdown",
      "metadata": {
        "id": "TPXhbeRvn7hT"
      },
      "source": [
        "An airline has assigned each city that it serves a unique numeric code. It\n",
        "has collected information about all the direct flights it operates,\n",
        "represented as a list of pairs of the form (i,j), where i is the code of the\n",
        "starting city and j is the code of the destination.\n",
        "It now wants to compute all pairs of cities connected by one intermediate\n",
        "hop --- city i is connected to city j by one intermediate hop if there are\n",
        "direct flights of the form (i,k) and (k,j) for some other city k. The airline is\n",
        "only interested in one hop flights between different cities --- pairs of the\n",
        "form (i,i) are not useful.\n",
        "Write a Python function onehop(l) that takes as input a list of pairs\n",
        "representing direct flights, as described above, and returns a list of all\n",
        "pairs (i,j), where i != j, such that i and j are connected by one hop. Note\n",
        "that it may already be the case that there is a direct flight from i to j. So\n",
        "long as there is an intermediate k with a flight from i to k and from k to j,\n",
        "the list returned by the function should include (i,j). The input list may be in\n",
        "any order. The pairs in the output list should be in lexicographic\n",
        "(dictionary) order. Each pair should be listed exactly once.\n",
        "For instance\n",
        ">>> onehop([(2,3),(1,2)])\n",
        "[(1, 3)]\n",
        ">>> onehop([(2,3),(1,2),(3,1),(1,3),(3,2),(2,4),(4,1)])\n",
        "[(1, 2), (1, 3), (1, 4), (2, 1), (3, 2), (3, 4), (4, 2), (4, 3)]\n",
        ">>> onehop([(1,2),(3,4),(5,6)])\n",
        "[]\n"
      ]
    },
    {
      "cell_type": "code",
      "metadata": {
        "id": "9K45BqShXbiR",
        "outputId": "88afaaa7-c8ed-4bac-cdf5-00c218e61ae7",
        "colab": {
          "base_uri": "https://localhost:8080/",
          "height": 34
        }
      },
      "source": [
        "def pair(t1,t2):\n",
        "  if (t1[1]==t2[0] and t1[0]!=t2[1]):\n",
        "    return (t1[0],t2[1])\n",
        "  elif (t2[1]==t1[0] and t2[0]!=t1[1]):\n",
        "    return (t2[0],t1[1])\n",
        "  else:\n",
        "    return 'None'"
      ],
      "execution_count": 87,
      "outputs": [
        {
          "output_type": "stream",
          "text": [
            "[]\n"
          ],
          "name": "stdout"
        }
      ]
    },
    {
      "cell_type": "code",
      "metadata": {
        "id": "eTmXM0gKYA6S"
      },
      "source": [
        "def onehop(l):\n",
        "  k=[]\n",
        "  for i in range(0,len(l)-1):\n",
        "    for j in range(i+1,len(l)):\n",
        "      if (pair(l[i],l[j]) not in k):\n",
        "        if (pair(l[i],l[j])!='None'):\n",
        "          k.append(pair(l[i],l[j]))\n",
        "  return k\n",
        "def sort(l):\n",
        "  m=len(l)//2\n",
        "  "
      ],
      "execution_count": 91,
      "outputs": []
    },
    {
      "cell_type": "code",
      "metadata": {
        "id": "6T1kioTWdfJO",
        "outputId": "ca21ce4a-83d2-4515-b519-f524af17c926",
        "colab": {
          "base_uri": "https://localhost:8080/",
          "height": 34
        }
      },
      "source": [
        "onehop([(2,3),(1,2)])"
      ],
      "execution_count": 74,
      "outputs": [
        {
          "output_type": "execute_result",
          "data": {
            "text/plain": [
              "[(1, 3)]"
            ]
          },
          "metadata": {
            "tags": []
          },
          "execution_count": 74
        }
      ]
    },
    {
      "cell_type": "code",
      "metadata": {
        "id": "htyL3D9agG9t",
        "outputId": "0d4fd3e4-7357-4a2e-c231-f6d0bd01dc48",
        "colab": {
          "base_uri": "https://localhost:8080/",
          "height": 34
        }
      },
      "source": [
        "onehop([(2,3),(1,2),(3,1),(1,3),(3,2),(2,4),(4,1)])"
      ],
      "execution_count": 92,
      "outputs": [
        {
          "output_type": "execute_result",
          "data": {
            "text/plain": [
              "[(1, 3), (2, 1), (3, 2), (1, 4), (4, 2), (1, 2), (4, 3), (3, 4)]"
            ]
          },
          "metadata": {
            "tags": []
          },
          "execution_count": 92
        }
      ]
    },
    {
      "cell_type": "code",
      "metadata": {
        "id": "SExKZjZ_gOmY",
        "outputId": "12187134-ff6d-4c06-d9a7-04bd42dd6d81",
        "colab": {
          "base_uri": "https://localhost:8080/",
          "height": 34
        }
      },
      "source": [
        "onehop([(1,2),(3,4),(5,6)])"
      ],
      "execution_count": 93,
      "outputs": [
        {
          "output_type": "execute_result",
          "data": {
            "text/plain": [
              "[]"
            ]
          },
          "metadata": {
            "tags": []
          },
          "execution_count": 93
        }
      ]
    },
    {
      "cell_type": "code",
      "metadata": {
        "id": "qPnmZqKyoao8",
        "outputId": "1995ef4a-59fe-48af-b2c3-5de5431ac02e",
        "colab": {
          "base_uri": "https://localhost:8080/",
          "height": 34
        }
      },
      "source": [
        "onehop([(1,2),(2,3),(3,\n",
        "4),(4,5),(5,1)])"
      ],
      "execution_count": 95,
      "outputs": [
        {
          "output_type": "execute_result",
          "data": {
            "text/plain": [
              "[(1, 3), (5, 2), (2, 4), (3, 5), (4, 1)]"
            ]
          },
          "metadata": {
            "tags": []
          },
          "execution_count": 95
        }
      ]
    },
    {
      "cell_type": "code",
      "metadata": {
        "id": "dIEKTy9wooDx",
        "outputId": "47fd6f24-35f6-482e-c907-37d4e68f8fdc",
        "colab": {
          "base_uri": "https://localhost:8080/",
          "height": 34
        }
      },
      "source": [
        "onehop([(1,2),(2,1),(3,\n",
        "4),(4,3)])"
      ],
      "execution_count": 96,
      "outputs": [
        {
          "output_type": "execute_result",
          "data": {
            "text/plain": [
              "[]"
            ]
          },
          "metadata": {
            "tags": []
          },
          "execution_count": 96
        }
      ]
    }
  ]
}